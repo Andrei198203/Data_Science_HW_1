{
  "nbformat": 4,
  "nbformat_minor": 0,
  "metadata": {
    "colab": {
      "provenance": [],
      "authorship_tag": "ABX9TyMydo9aRtue0cZylPg1crsc",
      "include_colab_link": true
    },
    "kernelspec": {
      "name": "python3",
      "display_name": "Python 3"
    },
    "language_info": {
      "name": "python"
    }
  },
  "cells": [
    {
      "cell_type": "markdown",
      "metadata": {
        "id": "view-in-github",
        "colab_type": "text"
      },
      "source": [
        "<a href=\"https://colab.research.google.com/github/Andrei198203/Data_Science_HW_1/blob/main/HW1.ipynb\" target=\"_parent\"><img src=\"https://colab.research.google.com/assets/colab-badge.svg\" alt=\"Open In Colab\"/></a>"
      ]
    },
    {
      "cell_type": "markdown",
      "source": [
        "Task 1"
      ],
      "metadata": {
        "id": "syLw-MuTx-Ve"
      }
    },
    {
      "cell_type": "code",
      "execution_count": null,
      "metadata": {
        "colab": {
          "base_uri": "https://localhost:8080/"
        },
        "id": "L6pX0B9JToVI",
        "outputId": "6e8948da-09e5-4373-f710-f3a4d7e07646"
      },
      "outputs": [
        {
          "output_type": "stream",
          "name": "stdout",
          "text": [
            "Вектор з першими 10 натуральними числами: [ 1  2  3  4  5  6  7  8  9 10]\n"
          ]
        }
      ],
      "source": [
        "import numpy as np\n",
        "\n",
        "# Creating a vector with the first 10 positive integers\n",
        "vector = np.arange(1, 11)\n",
        "\n",
        "# Vector values\n",
        "print(\"Vector with first 10 positive integers:\", vector)"
      ]
    },
    {
      "cell_type": "code",
      "source": [],
      "metadata": {
        "id": "xGdR8aJVlcqa"
      },
      "execution_count": null,
      "outputs": []
    },
    {
      "cell_type": "markdown",
      "source": [
        "Task 2"
      ],
      "metadata": {
        "id": "CfgywAqGlNoU"
      }
    },
    {
      "cell_type": "code",
      "source": [
        "import numpy as np\n",
        "\n",
        "# Creating 3x3 matrix filled with zeros\n",
        "matrix = np.zeros((3, 3))\n",
        "\n",
        "# Output of matrix values\n",
        "print(\"A two-dimensional array (matrix) of size 3x3 with zeros:\")\n",
        "print(matrix)"
      ],
      "metadata": {
        "colab": {
          "base_uri": "https://localhost:8080/"
        },
        "id": "02FWXhvhU1Ky",
        "outputId": "74beb398-3f9e-403d-fbe2-c8bbf672626d"
      },
      "execution_count": null,
      "outputs": [
        {
          "output_type": "stream",
          "name": "stdout",
          "text": [
            "A two-dimensional array (matrix) of size 3x3 with zeros:\n",
            "[[0. 0. 0.]\n",
            " [0. 0. 0.]\n",
            " [0. 0. 0.]]\n"
          ]
        }
      ]
    },
    {
      "cell_type": "markdown",
      "source": [
        "Task 3"
      ],
      "metadata": {
        "id": "qXVio3SgyVtd"
      }
    },
    {
      "cell_type": "code",
      "source": [
        "import numpy as np\n",
        "\n",
        "# Create 5x5 array filled with random integers in the range from 1 to 10\n",
        "matrix = np.random.randint(1, 11, size=(5, 5))\n",
        "\n",
        "# Displaying the values of an array\n",
        "print(\"An array of size 5x5 with random integers from 1 to 10:\")\n",
        "print(matrix)"
      ],
      "metadata": {
        "colab": {
          "base_uri": "https://localhost:8080/"
        },
        "id": "4RbmosnbVnvq",
        "outputId": "e0aa314e-8635-4e7c-9d04-debddb6b46a5"
      },
      "execution_count": null,
      "outputs": [
        {
          "output_type": "stream",
          "name": "stdout",
          "text": [
            "An array of size 5x5 with random integers from 1 to 10:\n",
            "[[ 4 10  8  3  8]\n",
            " [ 1  4  8  1  6]\n",
            " [ 2  7  3 10  8]\n",
            " [ 4  5  5  2  9]\n",
            " [ 1  8  6  2  7]]\n"
          ]
        }
      ]
    },
    {
      "cell_type": "markdown",
      "source": [
        "Task 4"
      ],
      "metadata": {
        "id": "p49jaxREyYf1"
      }
    },
    {
      "cell_type": "code",
      "source": [
        "import numpy as np\n",
        "\n",
        "# Creating an array of size 4x4 filled with random real numbers in the range from 0 to 1\n",
        "matrix = np.random.rand(4, 4)\n",
        "\n",
        "# Outputting array values\n",
        "print(\"Array of size 4x4 with random real numbers in the range from 0 to 1:\")\n",
        "print(matrix)"
      ],
      "metadata": {
        "colab": {
          "base_uri": "https://localhost:8080/"
        },
        "id": "Fp_k1uCQljp_",
        "outputId": "5a2cb21b-6535-43f6-ffb5-301d859b9d0d"
      },
      "execution_count": null,
      "outputs": [
        {
          "output_type": "stream",
          "name": "stdout",
          "text": [
            "Array of size 4x4 with random real numbers in the range from 0 to 1:\n",
            "[[0.87549665 0.1925006  0.0903562  0.61680765]\n",
            " [0.86644721 0.50053857 0.92069306 0.27246952]\n",
            " [0.18507738 0.16393665 0.15579546 0.40488507]\n",
            " [0.33929938 0.8128249  0.16214668 0.48262148]]\n"
          ]
        }
      ]
    },
    {
      "cell_type": "markdown",
      "source": [
        "Task 5"
      ],
      "metadata": {
        "id": "93-ovI-tybG2"
      }
    },
    {
      "cell_type": "code",
      "source": [
        "import numpy as np\n",
        "\n",
        "# Creating two random arrays of size 5 with integers from 1 to 10\n",
        "array1 = np.random.randint(1, 11, size=5)\n",
        "array2 = np.random.randint(1, 11, size=5)\n",
        "\n",
        "# Outputting the created arrays\n",
        "print(\"The first array:\", array1)\n",
        "print(\"The second array:\", array2)\n",
        "\n",
        "# Performing elementary addition\n",
        "addition_result = np.add(array1, array2)\n",
        "print(\"The result of addition:\", addition_result)\n",
        "\n",
        "# Performing elementary subtraction\n",
        "subtraction_result = np.subtract(array1, array2)\n",
        "print(\"The result of subtraction:\", subtraction_result)\n",
        "\n",
        "# Performing elementary multiplication\n",
        "multiplication_result = np.multiply(array1, array2)\n",
        "print(\"The result of multiplication:\", multiplication_result)"
      ],
      "metadata": {
        "colab": {
          "base_uri": "https://localhost:8080/"
        },
        "id": "Oj5q4IrEv3p1",
        "outputId": "76246a66-ffec-4433-d23c-587db5a01594"
      },
      "execution_count": null,
      "outputs": [
        {
          "output_type": "stream",
          "name": "stdout",
          "text": [
            "The first array: [9 6 1 9 6]\n",
            "The second array: [10  2  9  4  6]\n",
            "The result of addition: [19  8 10 13 12]\n",
            "The result of subtraction: [-1  4 -8  5  0]\n",
            "The result of multiplication: [90 12  9 36 36]\n"
          ]
        }
      ]
    },
    {
      "cell_type": "markdown",
      "source": [
        "Task 6"
      ],
      "metadata": {
        "id": "OEwLwB47yeEc"
      }
    },
    {
      "cell_type": "code",
      "source": [
        "import numpy as np\n",
        "\n",
        "# Create two vectors of size 7 filled with arbitrary numbers\n",
        "vector1 = np.random.randint(1, 10, size=7)\n",
        "vector2 = np.random.randint(1, 10, size=7)\n",
        "\n",
        "# Display the two vectors\n",
        "print(\"First vector:\", vector1)\n",
        "print(\"Second vector:\", vector2)\n",
        "\n",
        "# Calculate the scalar product (dot product) of the two vectors\n",
        "scalar_product = np.dot(vector1, vector2)\n",
        "\n",
        "# Display the scalar product\n",
        "print(\"Scalar product (dot product) of the two vectors:\", scalar_product)"
      ],
      "metadata": {
        "colab": {
          "base_uri": "https://localhost:8080/"
        },
        "id": "dWPKIoyYxmIz",
        "outputId": "7bfee9bb-aa26-4f3c-a36a-cc898e8b3e55"
      },
      "execution_count": null,
      "outputs": [
        {
          "output_type": "stream",
          "name": "stdout",
          "text": [
            "First vector: [4 4 9 3 7 2 8]\n",
            "Second vector: [4 1 9 5 4 5 8]\n",
            "Scalar product (dot product) of the two vectors: 218\n"
          ]
        }
      ]
    },
    {
      "cell_type": "markdown",
      "source": [
        "Task 7"
      ],
      "metadata": {
        "id": "sx6w4jvUzDYX"
      }
    },
    {
      "cell_type": "code",
      "source": [
        "import numpy as np\n",
        "\n",
        "# Create two matrices of size 2x2 and 2x3 filled with random integers\n",
        "matrix1 = np.random.randint(1, 11, size=(2, 2))\n",
        "matrix2 = np.random.randint(1, 11, size=(2, 3))\n",
        "\n",
        "# Display the two matrices\n",
        "print(\"First matrix:\\n\", matrix1)\n",
        "print(\"Second matrix:\\n\", matrix2)\n",
        "\n",
        "# Multiply the two matrices\n",
        "result = np.dot(matrix1, matrix2)\n",
        "\n",
        "# Display the result\n",
        "print(\"Result of multiplying the two matrices:\\n\", result)"
      ],
      "metadata": {
        "colab": {
          "base_uri": "https://localhost:8080/"
        },
        "id": "FW_ryAg3y92r",
        "outputId": "0a0447e3-cc78-498c-a86c-1a2663ee11f4"
      },
      "execution_count": null,
      "outputs": [
        {
          "output_type": "stream",
          "name": "stdout",
          "text": [
            "First matrix:\n",
            " [[6 7]\n",
            " [9 3]]\n",
            "Second matrix:\n",
            " [[6 1 6]\n",
            " [7 2 2]]\n",
            "Result of multiplying the two matrices:\n",
            " [[85 20 50]\n",
            " [75 15 60]]\n"
          ]
        }
      ]
    },
    {
      "cell_type": "markdown",
      "source": [
        "Task 8"
      ],
      "metadata": {
        "id": "8OdN9mmi0zeV"
      }
    },
    {
      "cell_type": "code",
      "source": [
        "import numpy as np\n",
        "\n",
        "# Create a 3x3 matrix filled with random integers\n",
        "matrix = np.random.randint(1, 11, size=(3, 3))\n",
        "\n",
        "# Display the matrix\n",
        "print(\"Original matrix:\\n\", matrix)\n",
        "\n",
        "# Check if the matrix is invertible\n",
        "if np.linalg.det(matrix) != 0:\n",
        "    # If the matrix is invertible, find its inverse matrix\n",
        "    inverse_matrix = np.linalg.inv(matrix)\n",
        "    # Display the inverse matrix\n",
        "    print(\"Inverse matrix:\\n\", inverse_matrix)\n",
        "else:\n",
        "    print(\"The matrix is not invertible.\")"
      ],
      "metadata": {
        "colab": {
          "base_uri": "https://localhost:8080/"
        },
        "id": "VGUCs9o70x7Y",
        "outputId": "c3f50446-7c4e-4d10-d5a4-72d716add304"
      },
      "execution_count": null,
      "outputs": [
        {
          "output_type": "stream",
          "name": "stdout",
          "text": [
            "Original matrix:\n",
            " [[ 3  9  2]\n",
            " [ 4  7 10]\n",
            " [ 1  4  6]]\n",
            "Inverse matrix:\n",
            " [[-0.01960784  0.45098039 -0.74509804]\n",
            " [ 0.1372549  -0.15686275  0.21568627]\n",
            " [-0.08823529  0.02941176  0.14705882]]\n"
          ]
        }
      ]
    },
    {
      "cell_type": "markdown",
      "source": [
        "Task 9"
      ],
      "metadata": {
        "id": "ZRASwXa_1iLo"
      }
    },
    {
      "cell_type": "code",
      "source": [
        "import numpy as np\n",
        "\n",
        "# Create a 4x4 matrix filled with random real numbers in the range from 0 to 1\n",
        "matrix = np.random.rand(4, 4)\n",
        "\n",
        "# Display the original matrix\n",
        "print(\"Original matrix:\\n\", matrix)\n",
        "\n",
        "# Transpose the matrix\n",
        "transposed_matrix = np.transpose(matrix)\n",
        "\n",
        "# Display the transposed matrix\n",
        "print(\"Transposed matrix:\\n\", transposed_matrix)"
      ],
      "metadata": {
        "colab": {
          "base_uri": "https://localhost:8080/"
        },
        "id": "TEc7-APg1gf4",
        "outputId": "0d183c3e-d347-4265-e9f4-10f7049a8583"
      },
      "execution_count": null,
      "outputs": [
        {
          "output_type": "stream",
          "name": "stdout",
          "text": [
            "Original matrix:\n",
            " [[0.18083948 0.11399113 0.79622039 0.27505816]\n",
            " [0.28958444 0.42961294 0.94421478 0.2251888 ]\n",
            " [0.74313571 0.33204469 0.99909568 0.13341234]\n",
            " [0.5175905  0.28556992 0.32927014 0.48665508]]\n",
            "Transposed matrix:\n",
            " [[0.18083948 0.28958444 0.74313571 0.5175905 ]\n",
            " [0.11399113 0.42961294 0.33204469 0.28556992]\n",
            " [0.79622039 0.94421478 0.99909568 0.32927014]\n",
            " [0.27505816 0.2251888  0.13341234 0.48665508]]\n"
          ]
        }
      ]
    },
    {
      "cell_type": "markdown",
      "source": [
        "Task 10"
      ],
      "metadata": {
        "id": "j9NE3rZj2FVz"
      }
    },
    {
      "cell_type": "code",
      "source": [
        "import numpy as np\n",
        "\n",
        "# Create a 3x4 matrix filled with random integers in the range from 1 to 10\n",
        "matrix = np.random.randint(1, 11, size=(3, 4))\n",
        "\n",
        "# Create a vector of size 4 filled with random integers in the range from 1 to 10\n",
        "vector = np.random.randint(1, 11, size=4)\n",
        "\n",
        "# Display the matrix and the vector\n",
        "print(\"Matrix:\\n\", matrix)\n",
        "print(\"Vector:\", vector)\n",
        "\n",
        "# Multiply the matrix by the vector\n",
        "result = np.dot(matrix, vector)\n",
        "\n",
        "# Display the result\n",
        "print(\"Result of multiplying the matrix by the vector:\", result)"
      ],
      "metadata": {
        "colab": {
          "base_uri": "https://localhost:8080/"
        },
        "id": "cXfUjDAb2D3-",
        "outputId": "e05fe74e-f988-4921-a9cb-fe7e4a5c06a8"
      },
      "execution_count": null,
      "outputs": [
        {
          "output_type": "stream",
          "name": "stdout",
          "text": [
            "Matrix:\n",
            " [[7 5 7 9]\n",
            " [7 8 4 1]\n",
            " [4 4 1 7]]\n",
            "Vector: [3 7 6 6]\n",
            "Result of multiplying the matrix by the vector: [152 107  88]\n"
          ]
        }
      ]
    },
    {
      "cell_type": "markdown",
      "source": [
        "Task 11"
      ],
      "metadata": {
        "id": "1n6MWF1p3C9M"
      }
    },
    {
      "cell_type": "code",
      "source": [
        "import numpy as np\n",
        "\n",
        "# Create a 2x3 matrix filled with random real numbers in the range from 0 to 1\n",
        "matrix = np.random.rand(2, 3)\n",
        "\n",
        "# Create a vector of size 3 filled with random real numbers in the range from 0 to 1\n",
        "vector = np.random.rand(3)\n",
        "\n",
        "# Display the matrix and the vector\n",
        "print(\"Matrix:\\n\", matrix)\n",
        "print(\"Vector:\", vector)\n",
        "\n",
        "# Multiply the matrix by the vector\n",
        "result = np.dot(matrix, vector)\n",
        "\n",
        "# Display the result\n",
        "print(\"Result of multiplying the matrix by the vector:\", result)"
      ],
      "metadata": {
        "colab": {
          "base_uri": "https://localhost:8080/"
        },
        "id": "rf1cyvUg3Bs4",
        "outputId": "5e3a2ca6-22d0-479a-8ca6-695318d5d1ec"
      },
      "execution_count": null,
      "outputs": [
        {
          "output_type": "stream",
          "name": "stdout",
          "text": [
            "Matrix:\n",
            " [[0.46954925 0.83093762 0.73730173]\n",
            " [0.59379356 0.99280734 0.45706144]]\n",
            "Vector: [0.22800605 0.45219358 0.71423762]\n",
            "Result of multiplying the matrix by the vector: [1.00941336 0.9107801 ]\n"
          ]
        }
      ]
    },
    {
      "cell_type": "markdown",
      "source": [
        "Task 12"
      ],
      "metadata": {
        "id": "dB_LAgQN32vf"
      }
    },
    {
      "cell_type": "code",
      "source": [
        "import numpy as np\n",
        "\n",
        "# Create two matrices of size 2x2 filled with random integers in the range from 1 to 10\n",
        "matrix1 = np.random.randint(1, 11, size=(2, 2))\n",
        "matrix2 = np.random.randint(1, 11, size=(2, 2))\n",
        "\n",
        "# Display the two matrices\n",
        "print(\"First matrix:\\n\", matrix1)\n",
        "print(\"Second matrix:\\n\", matrix2)\n",
        "\n",
        "# Perform elementwise multiplication of the two matrices\n",
        "result = np.multiply(matrix1, matrix2)\n",
        "\n",
        "# Display the result\n",
        "print(\"Elementwise multiplication of the two matrices:\\n\", result)"
      ],
      "metadata": {
        "colab": {
          "base_uri": "https://localhost:8080/"
        },
        "id": "ZxMbdvi53fsJ",
        "outputId": "f6daa117-199e-45e6-81e5-a611ddf032c9"
      },
      "execution_count": null,
      "outputs": [
        {
          "output_type": "stream",
          "name": "stdout",
          "text": [
            "First matrix:\n",
            " [[8 9]\n",
            " [2 2]]\n",
            "Second matrix:\n",
            " [[ 6 10]\n",
            " [ 8  8]]\n",
            "Elementwise multiplication of the two matrices:\n",
            " [[48 90]\n",
            " [16 16]]\n"
          ]
        }
      ]
    },
    {
      "cell_type": "markdown",
      "source": [
        "Task 13"
      ],
      "metadata": {
        "id": "nkDnlexu5E9w"
      }
    },
    {
      "cell_type": "code",
      "source": [
        "import numpy as np\n",
        "\n",
        "# Create two matrices of size 2x2 filled with random integers in the range from 1 to 10\n",
        "matrix1 = np.random.randint(1, 11, size=(2, 2))\n",
        "matrix2 = np.random.randint(1, 11, size=(2, 2))\n",
        "\n",
        "# Display the two matrices\n",
        "print(\"First matrix:\\n\", matrix1)\n",
        "print(\"Second matrix:\\n\", matrix2)\n",
        "\n",
        "# Find the product of the two matrices\n",
        "result = np.dot(matrix1, matrix2)\n",
        "\n",
        "# Display the result\n",
        "print(\"Product of the two matrices:\\n\", result)"
      ],
      "metadata": {
        "colab": {
          "base_uri": "https://localhost:8080/"
        },
        "id": "oLJvflbb5BEz",
        "outputId": "b0003f26-4970-400e-a8a3-74756f50486f"
      },
      "execution_count": null,
      "outputs": [
        {
          "output_type": "stream",
          "name": "stdout",
          "text": [
            "First matrix:\n",
            " [[8 3]\n",
            " [6 8]]\n",
            "Second matrix:\n",
            " [[ 1  5]\n",
            " [10  8]]\n",
            "Product of the two matrices:\n",
            " [[38 64]\n",
            " [86 94]]\n"
          ]
        }
      ]
    },
    {
      "cell_type": "markdown",
      "source": [
        "Task 14"
      ],
      "metadata": {
        "id": "fvp8NuKu5pPO"
      }
    },
    {
      "cell_type": "code",
      "source": [
        "import numpy as np\n",
        "\n",
        "# Create a 5x5 matrix filled with random integers in the range from 1 to 100\n",
        "matrix = np.random.randint(1, 101, size=(5, 5))\n",
        "\n",
        "# Display the matrix\n",
        "print(\"Matrix:\\n\", matrix)\n",
        "\n",
        "# Find the sum of the matrix elements\n",
        "sum_of_elements = np.sum(matrix)\n",
        "\n",
        "# Display the sum of the matrix elements\n",
        "print(\"Sum of the matrix elements:\", sum_of_elements)"
      ],
      "metadata": {
        "id": "fLo7MYXV5nlA",
        "outputId": "b0410d93-c7b0-4be5-e4cf-b8d85dcd75d0",
        "colab": {
          "base_uri": "https://localhost:8080/"
        }
      },
      "execution_count": null,
      "outputs": [
        {
          "output_type": "stream",
          "name": "stdout",
          "text": [
            "Matrix:\n",
            " [[ 80  72  17   8  42]\n",
            " [ 70  70  72  70  25]\n",
            " [ 53   5  57   9  67]\n",
            " [ 23  58   7   8  60]\n",
            " [  2  16  51 100  27]]\n",
            "Sum of the matrix elements: 1069\n"
          ]
        }
      ]
    },
    {
      "cell_type": "markdown",
      "source": [
        "Task 15"
      ],
      "metadata": {
        "id": "QF15f_QCaMWU"
      }
    },
    {
      "cell_type": "code",
      "source": [
        "# Create two matrices of size 4x4 filled with random integers in the range from 1 to 10\n",
        "import numpy as np\n",
        "matrix1 = np.random.randint(1, 11, size=(4, 4))\n",
        "matrix2 = np.random.randint(1, 11, size=(4, 4))\n",
        "\n",
        "# Display the two matrices\n",
        "print(\"First matrix:\\n\", matrix1)\n",
        "print(\"Second matrix:\\n\", matrix2)\n",
        "\n",
        "# Find the difference between the two matrices\n",
        "difference = matrix1 - matrix2\n",
        "\n",
        "# Display the result\n",
        "print(\"Difference between the two matrices:\\n\", difference)"
      ],
      "metadata": {
        "colab": {
          "base_uri": "https://localhost:8080/"
        },
        "id": "j01T9L2EaJ7O",
        "outputId": "3523d593-5f85-4fce-ef11-c5aff513e5b6"
      },
      "execution_count": 1,
      "outputs": [
        {
          "output_type": "stream",
          "name": "stdout",
          "text": [
            "First matrix:\n",
            " [[ 6  9  4  7]\n",
            " [ 1 10  3  8]\n",
            " [ 7 10  1  8]\n",
            " [ 4  2  9  1]]\n",
            "Second matrix:\n",
            " [[ 4 10  1  7]\n",
            " [10  6  2  6]\n",
            " [ 8  1  5  1]\n",
            " [ 1  9  8  7]]\n",
            "Difference between the two matrices:\n",
            " [[ 2 -1  3  0]\n",
            " [-9  4  1  2]\n",
            " [-1  9 -4  7]\n",
            " [ 3 -7  1 -6]]\n"
          ]
        }
      ]
    },
    {
      "cell_type": "markdown",
      "source": [
        "Task 16"
      ],
      "metadata": {
        "id": "LY_KBDtOvYO7"
      }
    },
    {
      "cell_type": "code",
      "source": [
        "import numpy as np\n",
        "\n",
        "# Create a 3x3 matrix filled with random real numbers in the range from 0 to 1\n",
        "matrix = np.random.rand(3, 3)\n",
        "\n",
        "# Display the original matrix\n",
        "print(\"Original matrix:\\n\", matrix)\n",
        "\n",
        "# Compute the sum of each row\n",
        "row_sums = np.sum(matrix, axis=1)\n",
        "\n",
        "# Reshape the row sums into a column vector\n",
        "column_vector = row_sums.reshape(-1, 1)\n",
        "\n",
        "# Display the column vector containing the sum of the elements of each row\n",
        "print(\"Column vector containing the sum of each row:\", column_vector)"
      ],
      "metadata": {
        "colab": {
          "base_uri": "https://localhost:8080/"
        },
        "id": "Nv7usqW-u_JA",
        "outputId": "140879c7-9732-4be7-8fe6-1fdff9f7b5cf"
      },
      "execution_count": 2,
      "outputs": [
        {
          "output_type": "stream",
          "name": "stdout",
          "text": [
            "Original matrix:\n",
            " [[0.38700245 0.59965077 0.80955044]\n",
            " [0.39101144 0.32494417 0.53452471]\n",
            " [0.86706157 0.80841952 0.57463555]]\n",
            "Column vector containing the sum of each row: [[1.79620366]\n",
            " [1.25048032]\n",
            " [2.25011665]]\n"
          ]
        }
      ]
    },
    {
      "cell_type": "markdown",
      "source": [
        "Task 17"
      ],
      "metadata": {
        "id": "v3ViRm5Cv51X"
      }
    },
    {
      "cell_type": "code",
      "source": [
        "import numpy as np\n",
        "\n",
        "# Create a 3x4 matrix with any integers\n",
        "original_matrix = np.array([[1, 2, 3, 4],\n",
        "                            [5, 6, 7, 8],\n",
        "                            [9, 10, 11, 12]])\n",
        "\n",
        "# Display the original matrix\n",
        "print(\"Original matrix:\\n\", original_matrix)\n",
        "\n",
        "# Compute the element-wise square of each number\n",
        "squared_matrix = np.square(original_matrix)\n",
        "\n",
        "# Display the matrix with the squares\n",
        "print(\"Matrix with the squares of the numbers:\\n\", squared_matrix)"
      ],
      "metadata": {
        "colab": {
          "base_uri": "https://localhost:8080/"
        },
        "id": "2PRfLvpLv4fb",
        "outputId": "35480d15-6429-4d7b-df87-2b95b9884ae5"
      },
      "execution_count": 3,
      "outputs": [
        {
          "output_type": "stream",
          "name": "stdout",
          "text": [
            "Original matrix:\n",
            " [[ 1  2  3  4]\n",
            " [ 5  6  7  8]\n",
            " [ 9 10 11 12]]\n",
            "Matrix with the squares of the numbers:\n",
            " [[  1   4   9  16]\n",
            " [ 25  36  49  64]\n",
            " [ 81 100 121 144]]\n"
          ]
        }
      ]
    },
    {
      "cell_type": "markdown",
      "source": [
        "Task 18"
      ],
      "metadata": {
        "id": "Wy1Rlurzxd4n"
      }
    },
    {
      "cell_type": "code",
      "source": [
        "import numpy as np\n",
        "\n",
        "# Create a vector of size 4 filled with random integers in the range from 1 to 50\n",
        "original_vector = np.random.randint(1, 51, size=4)\n",
        "\n",
        "# Display the original vector\n",
        "print(\"Original vector:\", original_vector)\n",
        "\n",
        "# Compute the square roots of the numbers in the vector\n",
        "sqrt_vector = np.sqrt(original_vector)\n",
        "\n",
        "# Display the vector with the square roots\n",
        "print(\"Vector with the square roots of the numbers:\", sqrt_vector)"
      ],
      "metadata": {
        "colab": {
          "base_uri": "https://localhost:8080/"
        },
        "id": "1pPXeVAOxcN9",
        "outputId": "fb342c40-510e-456f-b4f6-5ba2cd9ec750"
      },
      "execution_count": 4,
      "outputs": [
        {
          "output_type": "stream",
          "name": "stdout",
          "text": [
            "Original vector: [29  7 41  7]\n",
            "Vector with the square roots of the numbers: [5.38516481 2.64575131 6.40312424 2.64575131]\n"
          ]
        }
      ]
    }
  ]
}