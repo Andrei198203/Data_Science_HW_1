{
  "nbformat": 4,
  "nbformat_minor": 0,
  "metadata": {
    "colab": {
      "provenance": [],
      "authorship_tag": "ABX9TyOU6PsejP5+lClhAR35QyL+",
      "include_colab_link": true
    },
    "kernelspec": {
      "name": "python3",
      "display_name": "Python 3"
    },
    "language_info": {
      "name": "python"
    }
  },
  "cells": [
    {
      "cell_type": "markdown",
      "metadata": {
        "id": "view-in-github",
        "colab_type": "text"
      },
      "source": [
        "<a href=\"https://colab.research.google.com/github/Andrei198203/Data_Science_HW_1/blob/main/HW1.ipynb\" target=\"_parent\"><img src=\"https://colab.research.google.com/assets/colab-badge.svg\" alt=\"Open In Colab\"/></a>"
      ]
    },
    {
      "cell_type": "code",
      "execution_count": null,
      "metadata": {
        "colab": {
          "base_uri": "https://localhost:8080/"
        },
        "id": "L6pX0B9JToVI",
        "outputId": "6e8948da-09e5-4373-f710-f3a4d7e07646"
      },
      "outputs": [
        {
          "output_type": "stream",
          "name": "stdout",
          "text": [
            "Вектор з першими 10 натуральними числами: [ 1  2  3  4  5  6  7  8  9 10]\n"
          ]
        }
      ],
      "source": [
        "import numpy as np\n",
        "\n",
        "# Creating a vector with the first 10 positive integers\n",
        "vector = np.arange(1, 11)\n",
        "\n",
        "# Vector values\n",
        "print(\"Vector with first 10 positive integers:\", vector)"
      ]
    },
    {
      "cell_type": "code",
      "source": [],
      "metadata": {
        "id": "xGdR8aJVlcqa"
      },
      "execution_count": null,
      "outputs": []
    },
    {
      "cell_type": "markdown",
      "source": [],
      "metadata": {
        "id": "CfgywAqGlNoU"
      }
    },
    {
      "cell_type": "code",
      "source": [
        "import numpy as np\n",
        "\n",
        "# Creating 3x3 matrix filled with zeros\n",
        "matrix = np.zeros((3, 3))\n",
        "\n",
        "# Output of matrix values\n",
        "print(\"A two-dimensional array (matrix) of size 3x3 with zeros:\")\n",
        "print(matrix)"
      ],
      "metadata": {
        "colab": {
          "base_uri": "https://localhost:8080/"
        },
        "id": "02FWXhvhU1Ky",
        "outputId": "74beb398-3f9e-403d-fbe2-c8bbf672626d"
      },
      "execution_count": null,
      "outputs": [
        {
          "output_type": "stream",
          "name": "stdout",
          "text": [
            "A two-dimensional array (matrix) of size 3x3 with zeros:\n",
            "[[0. 0. 0.]\n",
            " [0. 0. 0.]\n",
            " [0. 0. 0.]]\n"
          ]
        }
      ]
    },
    {
      "cell_type": "code",
      "source": [
        "import numpy as np\n",
        "\n",
        "# Create 5x5 array filled with random integers in the range from 1 to 10\n",
        "matrix = np.random.randint(1, 11, size=(5, 5))\n",
        "\n",
        "# Displaying the values of an array\n",
        "print(\"An array of size 5x5 with random integers from 1 to 10:\")\n",
        "print(matrix)"
      ],
      "metadata": {
        "colab": {
          "base_uri": "https://localhost:8080/"
        },
        "id": "4RbmosnbVnvq",
        "outputId": "e0aa314e-8635-4e7c-9d04-debddb6b46a5"
      },
      "execution_count": 4,
      "outputs": [
        {
          "output_type": "stream",
          "name": "stdout",
          "text": [
            "An array of size 5x5 with random integers from 1 to 10:\n",
            "[[ 4 10  8  3  8]\n",
            " [ 1  4  8  1  6]\n",
            " [ 2  7  3 10  8]\n",
            " [ 4  5  5  2  9]\n",
            " [ 1  8  6  2  7]]\n"
          ]
        }
      ]
    },
    {
      "cell_type": "code",
      "source": [
        "import numpy as np\n",
        "\n",
        "# Creating an array of size 4x4 filled with random real numbers in the range from 0 to 1\n",
        "matrix = np.random.rand(4, 4)\n",
        "\n",
        "# Outputting array values\n",
        "print(\"Array of size 4x4 with random real numbers in the range from 0 to 1:\")\n",
        "print(matrix)"
      ],
      "metadata": {
        "colab": {
          "base_uri": "https://localhost:8080/"
        },
        "id": "Fp_k1uCQljp_",
        "outputId": "5a2cb21b-6535-43f6-ffb5-301d859b9d0d"
      },
      "execution_count": 5,
      "outputs": [
        {
          "output_type": "stream",
          "name": "stdout",
          "text": [
            "Array of size 4x4 with random real numbers in the range from 0 to 1:\n",
            "[[0.87549665 0.1925006  0.0903562  0.61680765]\n",
            " [0.86644721 0.50053857 0.92069306 0.27246952]\n",
            " [0.18507738 0.16393665 0.15579546 0.40488507]\n",
            " [0.33929938 0.8128249  0.16214668 0.48262148]]\n"
          ]
        }
      ]
    }
  ]
}