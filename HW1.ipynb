{
  "nbformat": 4,
  "nbformat_minor": 0,
  "metadata": {
    "colab": {
      "provenance": [],
      "authorship_tag": "ABX9TyPqauCQjDS89r55eUMzQleZ",
      "include_colab_link": true
    },
    "kernelspec": {
      "name": "python3",
      "display_name": "Python 3"
    },
    "language_info": {
      "name": "python"
    }
  },
  "cells": [
    {
      "cell_type": "markdown",
      "metadata": {
        "id": "view-in-github",
        "colab_type": "text"
      },
      "source": [
        "<a href=\"https://colab.research.google.com/github/Andrei198203/Data_Science_HW_1/blob/main/HW1.ipynb\" target=\"_parent\"><img src=\"https://colab.research.google.com/assets/colab-badge.svg\" alt=\"Open In Colab\"/></a>"
      ]
    },
    {
      "cell_type": "code",
      "execution_count": null,
      "metadata": {
        "colab": {
          "base_uri": "https://localhost:8080/"
        },
        "id": "L6pX0B9JToVI",
        "outputId": "6e8948da-09e5-4373-f710-f3a4d7e07646"
      },
      "outputs": [
        {
          "output_type": "stream",
          "name": "stdout",
          "text": [
            "Вектор з першими 10 натуральними числами: [ 1  2  3  4  5  6  7  8  9 10]\n"
          ]
        }
      ],
      "source": [
        "import numpy as np\n",
        "\n",
        "# Creating a vector with the first 10 positive integers\n",
        "vector = np.arange(1, 11)\n",
        "\n",
        "# Vector values\n",
        "print(\"Vector with first 10 positive integers:\", vector)"
      ]
    },
    {
      "cell_type": "code",
      "source": [
        "import numpy as np\n",
        "\n",
        "# Creating 3x3 matrix filled with zeros\n",
        "matrix = np.zeros((3, 3))\n",
        "\n",
        "# Output of matrix values\n",
        "print(\"A two-dimensional array (matrix) of size 3x3 with zeros:\")\n",
        "print(matrix)"
      ],
      "metadata": {
        "colab": {
          "base_uri": "https://localhost:8080/"
        },
        "id": "02FWXhvhU1Ky",
        "outputId": "74beb398-3f9e-403d-fbe2-c8bbf672626d"
      },
      "execution_count": null,
      "outputs": [
        {
          "output_type": "stream",
          "name": "stdout",
          "text": [
            "A two-dimensional array (matrix) of size 3x3 with zeros:\n",
            "[[0. 0. 0.]\n",
            " [0. 0. 0.]\n",
            " [0. 0. 0.]]\n"
          ]
        }
      ]
    },
    {
      "cell_type": "code",
      "source": [
        "import numpy as np\n",
        "\n",
        "# Create 5x5 array filled with random integers in the range from 1 to 10\n",
        "matrix = np.random.randint(1, 11, size=(5, 5))\n",
        "\n",
        "# Displaying the values of an array\n",
        "print(\"An array of size 5x5 with random integers from 1 to 10:\")\n",
        "print(matrix)"
      ],
      "metadata": {
        "colab": {
          "base_uri": "https://localhost:8080/"
        },
        "id": "4RbmosnbVnvq",
        "outputId": "9182666e-387b-4fe6-db5e-03dfc5be0e0e"
      },
      "execution_count": null,
      "outputs": [
        {
          "output_type": "stream",
          "name": "stdout",
          "text": [
            "An array of size 5x5 with random integers from 1 to 10:\n",
            "[[7 4 7 1 9]\n",
            " [2 1 4 8 2]\n",
            " [4 6 2 2 7]\n",
            " [4 1 6 3 5]\n",
            " [5 1 1 3 4]]\n"
          ]
        }
      ]
    }
  ]
}